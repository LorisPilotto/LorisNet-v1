{
 "cells": [
  {
   "cell_type": "code",
   "execution_count": 1,
   "id": "ad9ccdbc-0a39-420d-b27a-51291469c378",
   "metadata": {},
   "outputs": [],
   "source": [
    "import tensorflow as tf\n",
    "import numpy as np\n",
    "from LorisNet import *"
   ]
  },
  {
   "cell_type": "code",
   "execution_count": 2,
   "id": "a006eed8-1983-475a-abe6-ce5511f6ce13",
   "metadata": {},
   "outputs": [],
   "source": [
    "inputs = tf.keras.Input(shape=(3,))\n",
    "outputs =MultiAttentiveTransformerNoFeedback(number_masks=200,\n",
    "                                             dropout_rate=.1,\n",
    "                                             dim_reduction=.7,\n",
    "                                             activity_regularizer=tf.keras.regularizers.L2(),\n",
    "                                             kernel_regularizer=tf.keras.regularizers.L2(),\n",
    "                                             MLP_with_skip_connections_depth=4)(inputs)\n",
    "model = tf.keras.Model(inputs=inputs, outputs=outputs)"
   ]
  },
  {
   "cell_type": "code",
   "execution_count": 3,
   "id": "15232c45-f597-4f93-b9d1-79f65bf9c386",
   "metadata": {},
   "outputs": [
    {
     "name": "stdout",
     "output_type": "stream",
     "text": [
      "Model: \"model\"\n",
      "_________________________________________________________________\n",
      " Layer (type)                Output Shape              Param #   \n",
      "=================================================================\n",
      " input_1 (InputLayer)        [(None, 3)]               0         \n",
      "                                                                 \n",
      " multi_attentive_transformer  (None, 200, 3)           2508      \n",
      " _no_feedback (MultiAttentiv                                     \n",
      " eTransformerNoFeedback)                                         \n",
      "                                                                 \n",
      "=================================================================\n",
      "Total params: 2,508\n",
      "Trainable params: 2,508\n",
      "Non-trainable params: 0\n",
      "_________________________________________________________________\n"
     ]
    }
   ],
   "source": [
    "model.summary()"
   ]
  },
  {
   "cell_type": "code",
   "execution_count": 4,
   "id": "e75c1164-a121-4fdc-ad84-dea1bcd8cc7b",
   "metadata": {},
   "outputs": [
    {
     "data": {
      "text/plain": [
       "<tf.Tensor: shape=(2, 200, 3), dtype=float32, numpy=\n",
       "array([[[0.329775  , 0.329775  , 0.34044996],\n",
       "        [0.33111957, 0.33776087, 0.33111957],\n",
       "        [0.32681325, 0.34637347, 0.32681325],\n",
       "        ...,\n",
       "        [0.33960992, 0.33465904, 0.32573107],\n",
       "        [0.33286995, 0.33929083, 0.32783923],\n",
       "        [0.33979037, 0.3299689 , 0.3302407 ]],\n",
       "\n",
       "       [[0.33036757, 0.33036757, 0.33926487],\n",
       "        [0.33148822, 0.3370236 , 0.33148822],\n",
       "        [0.327899  , 0.34420198, 0.327899  ],\n",
       "        ...,\n",
       "        [0.3385647 , 0.33443826, 0.326997  ],\n",
       "        [0.3329471 , 0.33829877, 0.32875413],\n",
       "        [0.33871514, 0.33052915, 0.33075568]]], dtype=float32)>"
      ]
     },
     "execution_count": 4,
     "metadata": {},
     "output_type": "execute_result"
    }
   ],
   "source": [
    "model.compile(optimizer=\"Adam\", loss=\"mse\", metrics=[\"mae\"])\n",
    "model(np.random.random((2, 3)))"
   ]
  },
  {
   "cell_type": "code",
   "execution_count": null,
   "id": "dd9cf5a7-8bae-4494-bdb2-0dd2b9cf7990",
   "metadata": {},
   "outputs": [],
   "source": []
  },
  {
   "cell_type": "code",
   "execution_count": 5,
   "id": "665aeba0-8094-411e-8906-bd1574854377",
   "metadata": {},
   "outputs": [],
   "source": [
    "model = tf.keras.Sequential()\n",
    "model.add(MultiAttentiveTransformerWithFeedback(number_masks=200,\n",
    "                                                dropout_rate=.1,\n",
    "                                                dim_reduction=.7,\n",
    "                                                activity_regularizer=tf.keras.regularizers.L2(),\n",
    "                                                kernel_regularizer=tf.keras.regularizers.L2(),\n",
    "                                                MLP_with_skip_connections_depth=4))"
   ]
  },
  {
   "cell_type": "code",
   "execution_count": 6,
   "id": "5bf231f4-4bcf-4e40-9e48-53034771d864",
   "metadata": {},
   "outputs": [],
   "source": [
    "model.compile(optimizer=\"Adam\", loss=\"mse\", metrics=[\"mae\"])"
   ]
  },
  {
   "cell_type": "code",
   "execution_count": 7,
   "id": "b50fec17-373d-4187-ae47-fe9f825fe35c",
   "metadata": {},
   "outputs": [
    {
     "name": "stdout",
     "output_type": "stream",
     "text": [
      "WARNING:tensorflow:Layers in a Sequential model should only have a single input tensor. Received: inputs=[<tf.Tensor: shape=(2, 3), dtype=float64, numpy=\n",
      "array([[0.75705128, 0.32457966, 0.19960554],\n",
      "       [0.56621285, 0.82089675, 0.14060158]])>, [<tf.Tensor: shape=(2, 3), dtype=float64, numpy=\n",
      "array([[0.51621188, 0.24747799, 0.94734509],\n",
      "       [0.20429389, 0.53197428, 0.73202192]])>, <tf.Tensor: shape=(2, 3), dtype=float64, numpy=\n",
      "array([[0.37192694, 0.8761068 , 0.16233312],\n",
      "       [0.77332109, 0.21870508, 0.01823215]])>], [<tf.Tensor: shape=(2, 200, 3), dtype=float64, numpy=\n",
      "array([[[0.99269463, 0.3027317 , 0.27884096],\n",
      "        [0.24704029, 0.87578147, 0.74124284],\n",
      "        [0.35407162, 0.73907646, 0.72251857],\n",
      "        ...,\n",
      "        [0.0026337 , 0.30741203, 0.85187796],\n",
      "        [0.28362275, 0.29162249, 0.16090117],\n",
      "        [0.96993409, 0.20980187, 0.21656335]],\n",
      "\n",
      "       [[0.11484539, 0.79539671, 0.32211081],\n",
      "        [0.40347322, 0.75092041, 0.87457058],\n",
      "        [0.28195052, 0.56626436, 0.95568768],\n",
      "        ...,\n",
      "        [0.13264283, 0.68004208, 0.0321692 ],\n",
      "        [0.48458914, 0.11229766, 0.42282788],\n",
      "        [0.28511721, 0.39418729, 0.65327416]]])>, <tf.Tensor: shape=(2, 200, 3), dtype=float64, numpy=\n",
      "array([[[0.62171645, 0.24688609, 0.23134391],\n",
      "        [0.4648079 , 0.21456477, 0.85662221],\n",
      "        [0.45199017, 0.41813754, 0.34110085],\n",
      "        ...,\n",
      "        [0.94088543, 0.91279862, 0.56901866],\n",
      "        [0.63067303, 0.33655899, 0.35736999],\n",
      "        [0.7161524 , 0.41862633, 0.98270234]],\n",
      "\n",
      "       [[0.75153816, 0.7344174 , 0.64866674],\n",
      "        [0.39922562, 0.81790853, 0.65031982],\n",
      "        [0.82148287, 0.43722174, 0.22503487],\n",
      "        ...,\n",
      "        [0.79275068, 0.20444614, 0.45003902],\n",
      "        [0.19609729, 0.93873772, 0.20046122],\n",
      "        [0.05196117, 0.51472841, 0.29645955]]])>]]. Consider rewriting this model with the Functional API.\n"
     ]
    },
    {
     "data": {
      "text/plain": [
       "<tf.Tensor: shape=(2, 200, 3), dtype=float32, numpy=\n",
       "array([[[0.33333334, 0.33333334, 0.33333334],\n",
       "        [0.33333334, 0.33333334, 0.33333334],\n",
       "        [0.33333334, 0.33333334, 0.33333334],\n",
       "        ...,\n",
       "        [0.33333334, 0.33333334, 0.33333334],\n",
       "        [0.33333334, 0.33333334, 0.33333334],\n",
       "        [0.33333334, 0.33333334, 0.33333334]],\n",
       "\n",
       "       [[0.3332167 , 0.33353028, 0.33325297],\n",
       "        [0.33233997, 0.33394086, 0.33371913],\n",
       "        [0.3322716 , 0.33386543, 0.3338629 ],\n",
       "        ...,\n",
       "        [0.33449805, 0.33171067, 0.33379126],\n",
       "        [0.33220214, 0.33220214, 0.3355957 ],\n",
       "        [0.33341178, 0.33194834, 0.3346399 ]]], dtype=float32)>"
      ]
     },
     "execution_count": 7,
     "metadata": {},
     "output_type": "execute_result"
    }
   ],
   "source": [
    "model([np.random.random((2, 3)),\n",
    "       [np.random.random((2, 3)), np.random.random((2, 3))],\n",
    "       [np.random.random((2, 200, 3)), np.random.random((2, 200, 3))]])"
   ]
  },
  {
   "cell_type": "code",
   "execution_count": null,
   "id": "60bc5646-f17f-4fbf-8b55-d632ca85d6cf",
   "metadata": {},
   "outputs": [],
   "source": []
  }
 ],
 "metadata": {
  "kernelspec": {
   "display_name": "Python 3 (ipykernel)",
   "language": "python",
   "name": "python3"
  },
  "language_info": {
   "codemirror_mode": {
    "name": "ipython",
    "version": 3
   },
   "file_extension": ".py",
   "mimetype": "text/x-python",
   "name": "python",
   "nbconvert_exporter": "python",
   "pygments_lexer": "ipython3",
   "version": "3.9.7"
  }
 },
 "nbformat": 4,
 "nbformat_minor": 5
}

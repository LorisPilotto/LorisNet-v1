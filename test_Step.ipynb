{
 "cells": [
  {
   "cell_type": "code",
   "execution_count": 1,
   "id": "06f192db-b840-4cd2-b46c-24a0558ab120",
   "metadata": {},
   "outputs": [],
   "source": [
    "import tensorflow as tf\n",
    "from LorisNet import *"
   ]
  },
  {
   "cell_type": "code",
   "execution_count": 2,
   "id": "758ad79e-801e-4f34-8ddb-18e33ae51851",
   "metadata": {},
   "outputs": [],
   "source": [
    "inputs = tf.keras.Input(shape=(10,))\n",
    "outputs = StepNoFeedback(output_units=4,\n",
    "                         pass_next_step_units=4,\n",
    "                         multi_attentive_transformer=MultiAttentiveTransformerNoFeedback(number_masks=200,\n",
    "                                                                                         dropout_rate=.1,\n",
    "                                                                                         dim_reduction=.7,\n",
    "                                                                                         activity_regularizer=tf.keras.regularizers.L2(),\n",
    "                                                                                         kernel_regularizer=tf.keras.regularizers.L2(),\n",
    "                                                                                         MLP_with_skip_connections_depth=4),\n",
    "                         dropout_rate=.1,\n",
    "                         dim_reduction=.7,\n",
    "                         kernel_regularizer=tf.keras.regularizers.L2(),\n",
    "                         number_parallel_groups=-1,\n",
    "                         MLP_with_skip_connections_depth=4)(inputs)\n",
    "model = tf.keras.Model(inputs=inputs, outputs=outputs)"
   ]
  },
  {
   "cell_type": "code",
   "execution_count": 3,
   "id": "41691b4f-06c7-4d96-ad7b-67177bbc868c",
   "metadata": {},
   "outputs": [
    {
     "name": "stdout",
     "output_type": "stream",
     "text": [
      "Model: \"model\"\n",
      "_________________________________________________________________\n",
      " Layer (type)                Output Shape              Param #   \n",
      "=================================================================\n",
      " input_1 (InputLayer)        [(None, 10)]              0         \n",
      "                                                                 \n",
      " step_no_feedback (StepNoFee  ((None, 4),              35242     \n",
      " dback)                       (None, 4),                         \n",
      "                              (None, 200, 10))                   \n",
      "                                                                 \n",
      "=================================================================\n",
      "Total params: 35,242\n",
      "Trainable params: 35,242\n",
      "Non-trainable params: 0\n",
      "_________________________________________________________________\n"
     ]
    }
   ],
   "source": [
    "model.summary()"
   ]
  },
  {
   "cell_type": "code",
   "execution_count": 4,
   "id": "1a094d83-b807-425d-bcfc-80c7f09aa367",
   "metadata": {},
   "outputs": [
    {
     "data": {
      "text/plain": [
       "(<tf.Tensor: shape=(2, 4), dtype=float32, numpy=\n",
       " array([[0.03613378, 0.        , 0.        , 0.0093169 ],\n",
       "        [0.01782341, 0.        , 0.        , 0.00269992]], dtype=float32)>,\n",
       " <tf.Tensor: shape=(2, 4), dtype=float32, numpy=\n",
       " array([[0.03771443, 0.        , 0.        , 0.11569746],\n",
       "        [0.04796218, 0.        , 0.        , 0.10935685]], dtype=float32)>,\n",
       " <tf.Tensor: shape=(2, 200, 10), dtype=float32, numpy=\n",
       " array([[[0.06361902, 0.07414654, 0.12321366, ..., 0.1203749 ,\n",
       "          0.13788806, 0.06361902],\n",
       "         [0.08943583, 0.1012719 , 0.13834485, ..., 0.11645249,\n",
       "          0.08943583, 0.10056968],\n",
       "         [0.1362587 , 0.10796051, 0.0807227 , ..., 0.08165183,\n",
       "          0.0807227 , 0.11561189],\n",
       "         ...,\n",
       "         [0.13405399, 0.08469159, 0.08469159, ..., 0.08469159,\n",
       "          0.11760412, 0.09006165],\n",
       "         [0.12291685, 0.11274119, 0.08017673, ..., 0.08017673,\n",
       "          0.12995063, 0.08017673],\n",
       "         [0.1171927 , 0.12496433, 0.08343989, ..., 0.09164654,\n",
       "          0.08343989, 0.08343989]],\n",
       " \n",
       "        [[0.08232119, 0.08643968, 0.11259902, ..., 0.11090927,\n",
       "          0.11890867, 0.08232119],\n",
       "         [0.09461121, 0.10122881, 0.11979649, ..., 0.10660176,\n",
       "          0.09461121, 0.10104977],\n",
       "         [0.11784507, 0.10471153, 0.09038719, ..., 0.09038719,\n",
       "          0.09038719, 0.10847931],\n",
       "         ...,\n",
       "         [0.11822589, 0.09250913, 0.09250913, ..., 0.09250913,\n",
       "          0.10685927, 0.09547647],\n",
       "         [0.11106125, 0.10682864, 0.09015542, ..., 0.09015542,\n",
       "          0.11397187, 0.09015542],\n",
       "         [0.10855734, 0.11305314, 0.09183776, ..., 0.0944449 ,\n",
       "          0.09183776, 0.09183776]]], dtype=float32)>)"
      ]
     },
     "execution_count": 4,
     "metadata": {},
     "output_type": "execute_result"
    }
   ],
   "source": [
    "model.compile(optimizer=\"Adam\", loss=\"mse\", metrics=[\"mae\"])\n",
    "model(np.random.random((2, 10)))"
   ]
  },
  {
   "cell_type": "code",
   "execution_count": null,
   "id": "7f8d4a34-1601-4f6a-bc74-d51a3f86f3ac",
   "metadata": {},
   "outputs": [],
   "source": []
  },
  {
   "cell_type": "code",
   "execution_count": null,
   "id": "f79f9262-d4a0-4f46-bfd5-1f1f8d630a9e",
   "metadata": {},
   "outputs": [],
   "source": []
  },
  {
   "cell_type": "code",
   "execution_count": null,
   "id": "d49f1c86-acb8-4f45-8478-e0630f32a188",
   "metadata": {},
   "outputs": [],
   "source": []
  },
  {
   "cell_type": "code",
   "execution_count": 2,
   "id": "e0a5276f-3d02-46be-8b3d-b87372629319",
   "metadata": {},
   "outputs": [],
   "source": [
    "model = tf.keras.Sequential()\n",
    "model.add(StepWithFeedback(output_units=4,\n",
    "                           pass_next_step_units=4,\n",
    "                           multi_attentive_transformer=MultiAttentiveTransformerWithFeedback(number_masks=200,\n",
    "                                                                                             dropout_rate=.1,\n",
    "                                                                                             dim_reduction=.7,\n",
    "                                                                                             activity_regularizer=tf.keras.regularizers.L2(),\n",
    "                                                                                             kernel_regularizer=tf.keras.regularizers.L2(),\n",
    "                                                                                             MLP_with_skip_connections_depth=4),\n",
    "                           dropout_rate=.1,\n",
    "                           dim_reduction=.7,\n",
    "                           kernel_regularizer=tf.keras.regularizers.L2(),\n",
    "                           number_parallel_groups=-1,\n",
    "                           MLP_with_skip_connections_depth=4))"
   ]
  },
  {
   "cell_type": "code",
   "execution_count": 3,
   "id": "f53707a2-1381-4719-89d8-38da3b065c42",
   "metadata": {},
   "outputs": [],
   "source": [
    "model.compile(optimizer=\"Adam\", loss=\"mse\", metrics=[\"mae\"])"
   ]
  },
  {
   "cell_type": "code",
   "execution_count": 4,
   "id": "ea3e480f-a593-43b4-b057-30efc97f0338",
   "metadata": {},
   "outputs": [
    {
     "name": "stdout",
     "output_type": "stream",
     "text": [
      "WARNING:tensorflow:Layers in a Sequential model should only have a single input tensor. Received: inputs=[<tf.Tensor: shape=(2, 3), dtype=float64, numpy=\n",
      "array([[0.15529767, 0.32587362, 0.81448392],\n",
      "       [0.0511035 , 0.87745967, 0.33894725]])>, [<tf.Tensor: shape=(2, 3), dtype=float64, numpy=\n",
      "array([[0.42430116, 0.00679294, 0.33647578],\n",
      "       [0.45424408, 0.75467447, 0.71329754]])>, <tf.Tensor: shape=(2, 3), dtype=float64, numpy=\n",
      "array([[0.58186359, 0.0450281 , 0.50061712],\n",
      "       [0.98530185, 0.80884978, 0.1039414 ]])>], [<tf.Tensor: shape=(2, 200, 3), dtype=float64, numpy=\n",
      "array([[[0.69399603, 0.57576721, 0.49958763],\n",
      "        [0.77697491, 0.54757636, 0.887508  ],\n",
      "        [0.43569136, 0.81245335, 0.96371968],\n",
      "        ...,\n",
      "        [0.8285406 , 0.86597051, 0.52945155],\n",
      "        [0.91716542, 0.5099471 , 0.84920763],\n",
      "        [0.32563817, 0.8493623 , 0.83119904]],\n",
      "\n",
      "       [[0.60173395, 0.87147416, 0.84231533],\n",
      "        [0.20772246, 0.66328437, 0.07506682],\n",
      "        [0.11424936, 0.39055347, 0.43943083],\n",
      "        ...,\n",
      "        [0.95104539, 0.88647721, 0.69574018],\n",
      "        [0.44730765, 0.32826391, 0.42969718],\n",
      "        [0.66888596, 0.22576243, 0.71508165]]])>, <tf.Tensor: shape=(2, 200, 3), dtype=float64, numpy=\n",
      "array([[[6.74371441e-01, 4.06295032e-01, 3.32422192e-01],\n",
      "        [2.55403143e-01, 3.42866917e-01, 7.86561526e-01],\n",
      "        [7.66068568e-01, 3.26158203e-01, 3.16523841e-01],\n",
      "        ...,\n",
      "        [8.26441771e-01, 5.46055528e-02, 6.64696746e-01],\n",
      "        [5.84860896e-01, 6.01486239e-01, 5.50664621e-02],\n",
      "        [2.73475159e-01, 6.67732480e-01, 5.61918394e-01]],\n",
      "\n",
      "       [[1.57138675e-01, 9.50481105e-01, 2.97559495e-01],\n",
      "        [9.71905996e-01, 8.51188399e-01, 5.03016003e-01],\n",
      "        [6.83272808e-01, 1.53482825e-04, 8.01243004e-01],\n",
      "        ...,\n",
      "        [6.84215692e-01, 1.15940448e-02, 4.38917527e-01],\n",
      "        [9.76215264e-01, 9.71094429e-01, 8.29447911e-01],\n",
      "        [7.56227346e-01, 2.40279305e-01, 4.02040174e-02]]])>]]. Consider rewriting this model with the Functional API.\n"
     ]
    },
    {
     "ename": "ValueError",
     "evalue": "Exception encountered when calling layer \"sequential\" (type Sequential).\n\nAll layers in a Sequential model should have a single output tensor. For multi-output layers, use the functional API.\n\nCall arguments received by layer \"sequential\" (type Sequential):\n  • inputs=['tf.Tensor(shape=(2, 3), dtype=float64)', ['tf.Tensor(shape=(2, 3), dtype=float64)', 'tf.Tensor(shape=(2, 3), dtype=float64)'], ['tf.Tensor(shape=(2, 200, 3), dtype=float64)', 'tf.Tensor(shape=(2, 200, 3), dtype=float64)']]\n  • training=None\n  • mask=None",
     "output_type": "error",
     "traceback": [
      "\u001b[1;31m---------------------------------------------------------------------------\u001b[0m",
      "\u001b[1;31mValueError\u001b[0m                                Traceback (most recent call last)",
      "Input \u001b[1;32mIn [4]\u001b[0m, in \u001b[0;36m<cell line: 1>\u001b[1;34m()\u001b[0m\n\u001b[1;32m----> 1\u001b[0m \u001b[43mmodel\u001b[49m\u001b[43m(\u001b[49m\u001b[43m[\u001b[49m\u001b[43mnp\u001b[49m\u001b[38;5;241;43m.\u001b[39;49m\u001b[43mrandom\u001b[49m\u001b[38;5;241;43m.\u001b[39;49m\u001b[43mrandom\u001b[49m\u001b[43m(\u001b[49m\u001b[43m(\u001b[49m\u001b[38;5;241;43m2\u001b[39;49m\u001b[43m,\u001b[49m\u001b[43m \u001b[49m\u001b[38;5;241;43m3\u001b[39;49m\u001b[43m)\u001b[49m\u001b[43m)\u001b[49m\u001b[43m,\u001b[49m\n\u001b[0;32m      2\u001b[0m \u001b[43m       \u001b[49m\u001b[43m[\u001b[49m\u001b[43mnp\u001b[49m\u001b[38;5;241;43m.\u001b[39;49m\u001b[43mrandom\u001b[49m\u001b[38;5;241;43m.\u001b[39;49m\u001b[43mrandom\u001b[49m\u001b[43m(\u001b[49m\u001b[43m(\u001b[49m\u001b[38;5;241;43m2\u001b[39;49m\u001b[43m,\u001b[49m\u001b[43m \u001b[49m\u001b[38;5;241;43m3\u001b[39;49m\u001b[43m)\u001b[49m\u001b[43m)\u001b[49m\u001b[43m,\u001b[49m\u001b[43m \u001b[49m\u001b[43mnp\u001b[49m\u001b[38;5;241;43m.\u001b[39;49m\u001b[43mrandom\u001b[49m\u001b[38;5;241;43m.\u001b[39;49m\u001b[43mrandom\u001b[49m\u001b[43m(\u001b[49m\u001b[43m(\u001b[49m\u001b[38;5;241;43m2\u001b[39;49m\u001b[43m,\u001b[49m\u001b[43m \u001b[49m\u001b[38;5;241;43m3\u001b[39;49m\u001b[43m)\u001b[49m\u001b[43m)\u001b[49m\u001b[43m]\u001b[49m\u001b[43m,\u001b[49m\n\u001b[0;32m      3\u001b[0m \u001b[43m       \u001b[49m\u001b[43m[\u001b[49m\u001b[43mnp\u001b[49m\u001b[38;5;241;43m.\u001b[39;49m\u001b[43mrandom\u001b[49m\u001b[38;5;241;43m.\u001b[39;49m\u001b[43mrandom\u001b[49m\u001b[43m(\u001b[49m\u001b[43m(\u001b[49m\u001b[38;5;241;43m2\u001b[39;49m\u001b[43m,\u001b[49m\u001b[43m \u001b[49m\u001b[38;5;241;43m200\u001b[39;49m\u001b[43m,\u001b[49m\u001b[43m \u001b[49m\u001b[38;5;241;43m3\u001b[39;49m\u001b[43m)\u001b[49m\u001b[43m)\u001b[49m\u001b[43m,\u001b[49m\u001b[43m \u001b[49m\u001b[43mnp\u001b[49m\u001b[38;5;241;43m.\u001b[39;49m\u001b[43mrandom\u001b[49m\u001b[38;5;241;43m.\u001b[39;49m\u001b[43mrandom\u001b[49m\u001b[43m(\u001b[49m\u001b[43m(\u001b[49m\u001b[38;5;241;43m2\u001b[39;49m\u001b[43m,\u001b[49m\u001b[43m \u001b[49m\u001b[38;5;241;43m200\u001b[39;49m\u001b[43m,\u001b[49m\u001b[43m \u001b[49m\u001b[38;5;241;43m3\u001b[39;49m\u001b[43m)\u001b[49m\u001b[43m)\u001b[49m\u001b[43m]\u001b[49m\u001b[43m]\u001b[49m\u001b[43m)\u001b[49m\n",
      "File \u001b[1;32m~\\.virtualenvs\\LorisNet-x5Ovuv2r\\lib\\site-packages\\keras\\utils\\traceback_utils.py:67\u001b[0m, in \u001b[0;36mfilter_traceback.<locals>.error_handler\u001b[1;34m(*args, **kwargs)\u001b[0m\n\u001b[0;32m     65\u001b[0m \u001b[38;5;28;01mexcept\u001b[39;00m \u001b[38;5;167;01mException\u001b[39;00m \u001b[38;5;28;01mas\u001b[39;00m e:  \u001b[38;5;66;03m# pylint: disable=broad-except\u001b[39;00m\n\u001b[0;32m     66\u001b[0m   filtered_tb \u001b[38;5;241m=\u001b[39m _process_traceback_frames(e\u001b[38;5;241m.\u001b[39m__traceback__)\n\u001b[1;32m---> 67\u001b[0m   \u001b[38;5;28;01mraise\u001b[39;00m e\u001b[38;5;241m.\u001b[39mwith_traceback(filtered_tb) \u001b[38;5;28;01mfrom\u001b[39;00m \u001b[38;5;28mNone\u001b[39m\n\u001b[0;32m     68\u001b[0m \u001b[38;5;28;01mfinally\u001b[39;00m:\n\u001b[0;32m     69\u001b[0m   \u001b[38;5;28;01mdel\u001b[39;00m filtered_tb\n",
      "File \u001b[1;32m~\\.virtualenvs\\LorisNet-x5Ovuv2r\\lib\\site-packages\\keras\\engine\\sequential.py:391\u001b[0m, in \u001b[0;36mSequential.call\u001b[1;34m(self, inputs, training, mask)\u001b[0m\n\u001b[0;32m    388\u001b[0m outputs \u001b[38;5;241m=\u001b[39m layer(inputs, \u001b[38;5;241m*\u001b[39m\u001b[38;5;241m*\u001b[39mkwargs)\n\u001b[0;32m    390\u001b[0m \u001b[38;5;28;01mif\u001b[39;00m \u001b[38;5;28mlen\u001b[39m(tf\u001b[38;5;241m.\u001b[39mnest\u001b[38;5;241m.\u001b[39mflatten(outputs)) \u001b[38;5;241m!=\u001b[39m \u001b[38;5;241m1\u001b[39m:\n\u001b[1;32m--> 391\u001b[0m   \u001b[38;5;28;01mraise\u001b[39;00m \u001b[38;5;167;01mValueError\u001b[39;00m(SINGLE_LAYER_OUTPUT_ERROR_MSG)\n\u001b[0;32m    392\u001b[0m \u001b[38;5;66;03m# `outputs` will be the inputs to the next layer.\u001b[39;00m\n\u001b[0;32m    393\u001b[0m inputs \u001b[38;5;241m=\u001b[39m outputs\n",
      "\u001b[1;31mValueError\u001b[0m: Exception encountered when calling layer \"sequential\" (type Sequential).\n\nAll layers in a Sequential model should have a single output tensor. For multi-output layers, use the functional API.\n\nCall arguments received by layer \"sequential\" (type Sequential):\n  • inputs=['tf.Tensor(shape=(2, 3), dtype=float64)', ['tf.Tensor(shape=(2, 3), dtype=float64)', 'tf.Tensor(shape=(2, 3), dtype=float64)'], ['tf.Tensor(shape=(2, 200, 3), dtype=float64)', 'tf.Tensor(shape=(2, 200, 3), dtype=float64)']]\n  • training=None\n  • mask=None"
     ]
    }
   ],
   "source": [
    "model([np.random.random((2, 3)),\n",
    "       [np.random.random((2, 3)), np.random.random((2, 3))],\n",
    "       [np.random.random((2, 200, 3)), np.random.random((2, 200, 3))]])"
   ]
  },
  {
   "cell_type": "code",
   "execution_count": null,
   "id": "6e95743b-0fd9-4a5f-8058-e4bd9cb3dda7",
   "metadata": {},
   "outputs": [],
   "source": []
  },
  {
   "cell_type": "code",
   "execution_count": null,
   "id": "f2dd2523-4c3e-4b74-9886-0214921ef452",
   "metadata": {},
   "outputs": [],
   "source": []
  },
  {
   "cell_type": "code",
   "execution_count": null,
   "id": "d1c59308-7598-453e-96db-dee014b36fe2",
   "metadata": {},
   "outputs": [],
   "source": []
  },
  {
   "cell_type": "code",
   "execution_count": 5,
   "id": "d7cd7c65-b669-4815-adb4-47c8d72e78ba",
   "metadata": {},
   "outputs": [],
   "source": [
    "import numpy as np"
   ]
  },
  {
   "cell_type": "code",
   "execution_count": 13,
   "id": "f7b381ca-9528-43c2-aed5-4bce02bdf103",
   "metadata": {},
   "outputs": [],
   "source": [
    "d = {'a': np.array,\n",
    "    'b': [1, 2],\n",
    "    'c': 3,\n",
    "    'd': 4}"
   ]
  },
  {
   "cell_type": "code",
   "execution_count": 10,
   "id": "0ffefaf8-34f9-4eea-82be-ef8224e5b20b",
   "metadata": {},
   "outputs": [
    {
     "data": {
      "text/plain": [
       "array([1, 2])"
      ]
     },
     "execution_count": 10,
     "metadata": {},
     "output_type": "execute_result"
    }
   ],
   "source": [
    "d.pop('a')(d.pop('b'))"
   ]
  },
  {
   "cell_type": "code",
   "execution_count": 14,
   "id": "31c12f9e-d22e-4f11-aaf7-44c712d21d44",
   "metadata": {},
   "outputs": [
    {
     "data": {
      "text/plain": [
       "[array([1, 2]), dict_keys(['c', 'd'])]"
      ]
     },
     "execution_count": 14,
     "metadata": {},
     "output_type": "execute_result"
    }
   ],
   "source": [
    "[d.pop('a')(d.pop('b')), d.keys()]"
   ]
  },
  {
   "cell_type": "code",
   "execution_count": null,
   "id": "cb31a9fd-a766-4724-bd35-3dd17adc91c7",
   "metadata": {},
   "outputs": [],
   "source": []
  }
 ],
 "metadata": {
  "kernelspec": {
   "display_name": "Python 3 (ipykernel)",
   "language": "python",
   "name": "python3"
  },
  "language_info": {
   "codemirror_mode": {
    "name": "ipython",
    "version": 3
   },
   "file_extension": ".py",
   "mimetype": "text/x-python",
   "name": "python",
   "nbconvert_exporter": "python",
   "pygments_lexer": "ipython3",
   "version": "3.9.7"
  }
 },
 "nbformat": 4,
 "nbformat_minor": 5
}
